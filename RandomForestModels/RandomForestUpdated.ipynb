{
 "cells": [
  {
   "cell_type": "markdown",
   "metadata": {},
   "source": [
    "# Updated Random Forest Code\n",
    "\n",
    "Streamlining the process and ensuring analysis includes appropriate measures."
   ]
  },
  {
   "cell_type": "code",
   "execution_count": 1,
   "metadata": {
    "collapsed": true
   },
   "outputs": [],
   "source": [
    "import time\n",
    "import numpy as np\n",
    "import pandas as pd\n",
    "\n",
    "import matplotlib.pyplot as plt\n",
    "import matplotlib.mlab as mlab\n",
    "\n",
    "from sklearn.preprocessing import StandardScaler\n",
    "from sklearn.ensemble import RandomForestClassifier, RandomForestRegressor\n",
    "from sklearn.metrics import accuracy_score, roc_auc_score, confusion_matrix, roc_curve, auc\n",
    "from scipy.stats import norm, sem, t\n",
    "\n",
    "%matplotlib inline\n",
    "plt.style.use('seaborn-colorblind')"
   ]
  },
  {
   "cell_type": "markdown",
   "metadata": {},
   "source": [
    "## Import the data and the question strings"
   ]
  },
  {
   "cell_type": "code",
   "execution_count": 2,
   "metadata": {
    "collapsed": true
   },
   "outputs": [],
   "source": [
    "folder='../../ComputationSurveyData/';\n",
    "XLS = pd.ExcelFile(folder + 'LabeledComputationData.xlsx')\n",
    "XLS2 = pd.ExcelFile(folder + 'CategorizedQuestions.xlsx')\n",
    "df = XLS.parse('LabeledComputationData')\n",
    "questions = XLS2.parse('Sheet1')"
   ]
  },
  {
   "cell_type": "code",
   "execution_count": null,
   "metadata": {
    "collapsed": true
   },
   "outputs": [],
   "source": []
  },
  {
   "cell_type": "markdown",
   "metadata": {},
   "source": [
    "### Selecting the question to classify and input features to use to predict classifications"
   ]
  },
  {
   "cell_type": "code",
   "execution_count": 47,
   "metadata": {
    "collapsed": true
   },
   "outputs": [],
   "source": [
    "question_to_classify = 'Q1'\n",
    "\n",
    "feature_subset = questions[((questions['context'] == 'test') |\n",
    "                            (questions['context'] == 'background') |\n",
    "                           (questions['context'] == 'demographics')) & \n",
    "                           (questions['qtype'] != 'open')];"
   ]
  },
  {
   "cell_type": "markdown",
   "metadata": {},
   "source": [
    "### Randomly select the training data\n",
    "Add a new key ```is_train``` to the data frame, which is a random selection of the data"
   ]
  },
  {
   "cell_type": "code",
   "execution_count": 48,
   "metadata": {
    "collapsed": true
   },
   "outputs": [],
   "source": [
    "training_proportion = .75\n",
    "df['is_train'] = np.random.uniform(0, 1, len(df)) <= training_proportion"
   ]
  },
  {
   "cell_type": "markdown",
   "metadata": {},
   "source": [
    "### Add new keys that factorize our original data set\n",
    "The classifer requires that the data be represented as numbers, so it will assign a unique integer for each unique string in a given key."
   ]
  },
  {
   "cell_type": "code",
   "execution_count": 49,
   "metadata": {
    "collapsed": true
   },
   "outputs": [],
   "source": [
    "features = []\n",
    "for ID in feature_subset.id:\n",
    "\n",
    "    new_header = ID + 'feature'\n",
    "    df[new_header] = pd.factorize(df[ID])[0]\n",
    "    features.append(new_header)"
   ]
  },
  {
   "cell_type": "markdown",
   "metadata": {},
   "source": [
    "### Create two new dataframes, one with the training rows, one with the test rows"
   ]
  },
  {
   "cell_type": "code",
   "execution_count": 50,
   "metadata": {},
   "outputs": [],
   "source": [
    "train, test = df[df['is_train']==True], df[df['is_train']==False]"
   ]
  },
  {
   "cell_type": "markdown",
   "metadata": {},
   "source": [
    "### Create two new data frames for the classifications and store the input data\n",
    "```train[question]``` contains the classes of the data. Before we can use it, we need to convert each result into a digit. "
   ]
  },
  {
   "cell_type": "code",
   "execution_count": 51,
   "metadata": {},
   "outputs": [],
   "source": [
    "y = pd.factorize(train[question_to_classify])[0]\n",
    "y_test = pd.factorize(test[question_to_classify])[0]\n",
    "X = train[features]\n",
    "X_test = test[features]"
   ]
  },
  {
   "cell_type": "markdown",
   "metadata": {},
   "source": [
    "# Rescale the input data\n",
    "Scaling of the data (using z-scores) ensures that each values for each key are on the same scale so that fits aren't overwhelmed by vastly different scaled variables."
   ]
  },
  {
   "cell_type": "code",
   "execution_count": 52,
   "metadata": {
    "collapsed": true
   },
   "outputs": [],
   "source": [
    "# Scaling to ensure it doesn't behave badly\n",
    "scaler = StandardScaler()\n",
    "scaler.fit(X)\n",
    "\n",
    "# Now apply the transformations to the data:\n",
    "X = scaler.transform(X)\n",
    "X_test = scaler.transform(X_test)"
   ]
  },
  {
   "cell_type": "markdown",
   "metadata": {},
   "source": [
    "### Run the random forest and fit the data"
   ]
  },
  {
   "cell_type": "code",
   "execution_count": 53,
   "metadata": {
    "collapsed": true
   },
   "outputs": [],
   "source": [
    "# Create a random forest classifier. By convention, clf means 'classifier'\n",
    "clf = RandomForestClassifier(n_estimators=24);\n",
    "\n",
    "# Train the classifier to take the training features, X, and learn how they relate\n",
    "# to the training classes, y\n",
    "clf.fit(X, y);\n",
    "\n",
    "# Apply the classifier we trained to the test data (which, remember, it has never seen before)\n",
    "pred_y_test = clf.predict(X_test);"
   ]
  },
  {
   "cell_type": "markdown",
   "metadata": {},
   "source": [
    "### Run analytics on the model"
   ]
  },
  {
   "cell_type": "code",
   "execution_count": 54,
   "metadata": {},
   "outputs": [
    {
     "name": "stdout",
     "output_type": "stream",
     "text": [
      "Confusion Matrix:\n",
      " [[ 70  55]\n",
      " [ 29 181]]\n",
      "Percentage of accurate predictions:\n",
      " 0.749253731343\n",
      "Area under curve:\n",
      " 0.786895238095\n"
     ]
    }
   ],
   "source": [
    "## Confusion Matrix\n",
    "confusion = confusion_matrix(y_test,pred_y_test)\n",
    "print('Confusion Matrix:\\n',confusion)\n",
    "\n",
    "## Check accuracy of model on test data\n",
    "acc_score = accuracy_score(y_test, pred_y_test);\n",
    "print('Percentage of accurate predictions:\\n', acc_score)\n",
    "\n",
    "## Compute predicted class probabilities\n",
    "preds = clf.predict_proba(X_test)\n",
    "\n",
    "## Determine false positive and true positive rate\n",
    "fpr, tpr, thresholds = roc_curve(y_test, preds[:,1])\n",
    "\n",
    "## Store rates for plotting\n",
    "dfROC = pd.DataFrame(dict(fpr = fpr, tpr = tpr))\n",
    "\n",
    "## Compute area under curve of ROC\n",
    "area_under_curve = auc(fpr,tpr)\n",
    "print('Area under curve:\\n', area_under_curve)"
   ]
  },
  {
   "cell_type": "markdown",
   "metadata": {},
   "source": [
    "### Plot the ROC curve"
   ]
  },
  {
   "cell_type": "code",
   "execution_count": 56,
   "metadata": {},
   "outputs": [
    {
     "data": {
      "image/png": "[encoded data removed]",
      "text/plain": [
       "<matplotlib.figure.Figure at 0x111b05cc0>"
      ]
     },
     "metadata": {},
     "output_type": "display_data"
    }
   ],
   "source": [
    "#just to plot guessing line\n",
    "a = np.arange(0,1,0.01)\n",
    "\n",
    "bboxprops = {'facecolor':'white', 'pad':0.3, 'boxstyle':'round', 'edgecolor':'darkgrey', 'alpha':0.7}\n",
    "\n",
    "fig1 = plt.figure(num=None, figsize=(3, 3), dpi=150, facecolor='w', edgecolor='k')\n",
    "ax1 = fig1.add_subplot(111)\n",
    "\n",
    "plt.plot(dfROC['fpr'],dfROC['tpr'])\n",
    "plt.plot(a,a,'--')\n",
    "\n",
    "plt.xlabel('False Positive Rate')\n",
    "plt.ylabel('True Positive Rate')\n",
    "\n",
    "ax1.fill_between(dfROC['fpr'], 0, dfROC['tpr'],alpha=0.1)\n",
    "ax1.text(0.51, 0.07, 'AUC = '+ str(round(area_under_curve, 3)), bbox = bboxprops)\n",
    "plt.axis([0,1,0,1])\n",
    "plt.xticks([0,0.5,1])\n",
    "plt.yticks([0,0.5,1])\n",
    "\n",
    "plt.tight_layout()"
   ]
  },
  {
   "cell_type": "code",
   "execution_count": null,
   "metadata": {
    "collapsed": true
   },
   "outputs": [],
   "source": []
  }
 ],
 "metadata": {
  "kernelspec": {
   "display_name": "Python 3",
   "language": "python",
   "name": "python3"
  },
  "language_info": {
   "codemirror_mode": {
    "name": "ipython",
    "version": 3
   },
   "file_extension": ".py",
   "mimetype": "text/x-python",
   "name": "python",
   "nbconvert_exporter": "python",
   "pygments_lexer": "ipython3",
   "version": "3.6.3"
  }
 },
 "nbformat": 4,
 "nbformat_minor": 2
}

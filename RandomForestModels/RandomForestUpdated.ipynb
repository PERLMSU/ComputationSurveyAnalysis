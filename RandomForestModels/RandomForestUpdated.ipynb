{
 "cells": [
  {
   "cell_type": "markdown",
   "metadata": {},
   "source": [
    "# Updated Random Forest Code\n",
    "\n",
    "Streamlining the process and ensuring analysis includes appropriate measures."
   ]
  },
  {
   "cell_type": "code",
   "execution_count": 1,
   "metadata": {
    "collapsed": true
   },
   "outputs": [],
   "source": [
    "import numpy as np\n",
    "import pandas as pd\n",
    "\n",
    "import matplotlib.pyplot as plt\n",
    "import matplotlib.mlab as mlab\n",
    "\n",
    "from sklearn.preprocessing import StandardScaler\n",
    "from sklearn.ensemble import RandomForestClassifier, RandomForestRegressor\n",
    "from sklearn.metrics import accuracy_score, roc_auc_score, confusion_matrix, roc_curve, auc\n",
    "from sklearn.model_selection import train_test_split\n",
    "from sklearn.feature_selection import SelectFromModel\n",
    "\n",
    "%matplotlib inline\n",
    "plt.style.use('seaborn-colorblind')"
   ]
  },
  {
   "cell_type": "markdown",
   "metadata": {},
   "source": [
    "## Import the data and the question strings"
   ]
  },
  {
   "cell_type": "code",
   "execution_count": 2,
   "metadata": {
    "collapsed": true
   },
   "outputs": [],
   "source": [
    "folder='../../ComputationSurveyData/';\n",
    "XLS = pd.ExcelFile(folder + 'LabeledComputationData.xlsx')\n",
    "XLS2 = pd.ExcelFile(folder + 'CategorizedQuestions.xlsx')\n",
    "df = XLS.parse('LabeledComputationData')\n",
    "questions = XLS2.parse('Sheet1')"
   ]
  },
  {
   "cell_type": "markdown",
   "metadata": {},
   "source": [
    "### Selecting the question to classify and input features to use to predict classifications"
   ]
  },
  {
   "cell_type": "code",
   "execution_count": 3,
   "metadata": {
    "collapsed": true
   },
   "outputs": [],
   "source": [
    "question_to_classify = 'Q1'\n",
    "\n",
    "feature_subset = questions[((questions['context'] == 'test') |\n",
    "                            (questions['context'] == 'background') |\n",
    "                           (questions['context'] == 'demographics')) & \n",
    "                           (questions['qtype'] != 'open')];"
   ]
  },
  {
   "cell_type": "markdown",
   "metadata": {},
   "source": [
    "### Randomly select the training data\n",
    "Add a new key ```is_train``` to the data frame, which is a random selection of the data"
   ]
  },
  {
   "cell_type": "code",
   "execution_count": 4,
   "metadata": {
    "collapsed": true
   },
   "outputs": [],
   "source": [
    "training_proportion = .75\n",
    "df['is_train'] = np.random.uniform(0, 1, len(df)) <= training_proportion"
   ]
  },
  {
   "cell_type": "markdown",
   "metadata": {},
   "source": [
    "### Add new keys that factorize our original data set\n",
    "The classifer requires that the data be represented as numbers, so it will assign a unique integer for each unique string in a given key."
   ]
  },
  {
   "cell_type": "code",
   "execution_count": 5,
   "metadata": {
    "collapsed": true
   },
   "outputs": [],
   "source": [
    "features = []\n",
    "for ID in feature_subset.id:\n",
    "\n",
    "    new_header = ID + 'feature'\n",
    "    df[new_header] = pd.factorize(df[ID])[0]\n",
    "    features.append(new_header)"
   ]
  },
  {
   "cell_type": "markdown",
   "metadata": {},
   "source": [
    "### Create two new dataframes, one with the training rows, one with the test rows"
   ]
  },
  {
   "cell_type": "code",
   "execution_count": 6,
   "metadata": {
    "collapsed": true
   },
   "outputs": [],
   "source": [
    "train, test = df[df['is_train'] == True], df[df['is_train'] == False]"
   ]
  },
  {
   "cell_type": "markdown",
   "metadata": {},
   "source": [
    "### Create two new data frames for the classifications and store the input data\n",
    "```train[question]``` contains the classes of the data. Before we can use it, we need to convert each result into a digit. "
   ]
  },
  {
   "cell_type": "code",
   "execution_count": 7,
   "metadata": {
    "collapsed": true
   },
   "outputs": [],
   "source": [
    "y = pd.factorize(train[question_to_classify])[0]\n",
    "y_test = pd.factorize(test[question_to_classify])[0]\n",
    "X = train[features]\n",
    "X_test = test[features]"
   ]
  },
  {
   "cell_type": "markdown",
   "metadata": {},
   "source": [
    "# Rescale the input data\n",
    "Scaling of the data (using z-scores) ensures that each values for each key are on the same scale so that fits aren't overwhelmed by vastly different scaled variables."
   ]
  },
  {
   "cell_type": "code",
   "execution_count": 8,
   "metadata": {
    "collapsed": true
   },
   "outputs": [],
   "source": [
    "# Scaling to ensure it doesn't behave badly\n",
    "scaler = StandardScaler()\n",
    "scaler.fit(X)\n",
    "\n",
    "# Now apply the transformations to the data:\n",
    "X = scaler.transform(X)\n",
    "X_test = scaler.transform(X_test)"
   ]
  },
  {
   "cell_type": "markdown",
   "metadata": {},
   "source": [
    "### Run the random forest and fit the data"
   ]
  },
  {
   "cell_type": "code",
   "execution_count": 9,
   "metadata": {},
   "outputs": [
    {
     "name": "stdout",
     "output_type": "stream",
     "text": [
      "('Q152feature', 0.016732747437852791)\n",
      "('Q153feature', 0.029755858395701201)\n",
      "('Q154feature', 0.017968619616910174)\n",
      "('Q155feature', 0.12637323311516258)\n",
      "('Q156feature', 0.021246053900079311)\n",
      "('Q157feature', 0.025781755113664172)\n",
      "('Q158feature', 0.024234570195986613)\n",
      "('Q160feature', 0.021895588024240492)\n",
      "('Q161feature', 0.18664221058784267)\n",
      "('Q162feature', 0.024896015436970908)\n",
      "('Q163feature', 0.077102114068334268)\n",
      "('Q164feature', 0.051901055154871874)\n",
      "('Q166feature', 0.058513090712620112)\n",
      "('Q168feature', 0.02106225909968417)\n",
      "('Q169feature', 0.033103504687904316)\n",
      "('Q170feature', 0.023142751405297198)\n",
      "('Q171feature', 0.0043420217785862907)\n",
      "('Q172feature', 0.0060419544498202934)\n",
      "('Q173feature', 0.0026643454586246268)\n",
      "('Q174feature', 0.016254318079838299)\n",
      "('Q175feature', 0.019474455442902515)\n",
      "('Q176feature', 0.012030169601405806)\n",
      "('Q177feature', 0.007432708311560148)\n",
      "('Q178feature', 0.0088551859258665377)\n",
      "('Q185feature', 0.012743983803908884)\n",
      "('Q186feature', 0.084436954203652673)\n",
      "('Q187feature', 0.065372475990710999)\n"
     ]
    }
   ],
   "source": [
    "# Create a random forest classifier. By convention, clf means 'classifier'\n",
    "clf = RandomForestClassifier(n_estimators=128);\n",
    "\n",
    "# Train the classifier to take the training features, X, and learn how they relate\n",
    "# to the training classes, y\n",
    "clf.fit(X, y);\n",
    "\n",
    "# Apply the classifier we trained to the test data (which, remember, it has never seen before)\n",
    "pred_y_test = clf.predict(X_test);\n",
    "\n",
    "fs = feature_subset['feature'].tolist()\n",
    "\n",
    "for feature in zip(fs, clf.feature_importances_):\n",
    "    print(feature)"
   ]
  },
  {
   "cell_type": "markdown",
   "metadata": {},
   "source": [
    "### Run analytics on the model"
   ]
  },
  {
   "cell_type": "code",
   "execution_count": 10,
   "metadata": {},
   "outputs": [
    {
     "name": "stdout",
     "output_type": "stream",
     "text": [
      "Confusion Matrix:\n",
      " [[ 74  51]\n",
      " [ 28 160]]\n",
      "Percentage of accurate predictions:\n",
      " 0.747603833866\n",
      "Area under curve:\n",
      " 0.813425531915\n"
     ]
    }
   ],
   "source": [
    "## Confusion Matrix\n",
    "confusion = confusion_matrix(y_test,pred_y_test)\n",
    "print('Confusion Matrix:\\n',confusion)\n",
    "\n",
    "## Check accuracy of model on test data\n",
    "acc_score = accuracy_score(y_test, pred_y_test);\n",
    "print('Percentage of accurate predictions:\\n', acc_score)\n",
    "\n",
    "## Compute predicted class probabilities\n",
    "preds = clf.predict_proba(X_test)\n",
    "\n",
    "## Determine false positive and true positive rate\n",
    "fpr, tpr, thresholds = roc_curve(y_test, preds[:,1])\n",
    "\n",
    "## Store rates for plotting\n",
    "dfROC = pd.DataFrame(dict(fpr = fpr, tpr = tpr))\n",
    "\n",
    "## Compute area under curve of ROC\n",
    "area_under_curve = auc(fpr,tpr)\n",
    "print('Area under curve:\\n', area_under_curve)"
   ]
  },
  {
   "cell_type": "markdown",
   "metadata": {},
   "source": [
    "### Plot the ROC curve"
   ]
  },
  {
   "cell_type": "code",
   "execution_count": 11,
   "metadata": {},
   "outputs": [
    {
     "data": {
      "image/png": "[encoded data removed]",
      "text/plain": [
       "<matplotlib.figure.Figure at 0x10908b390>"
      ]
     },
     "metadata": {},
     "output_type": "display_data"
    }
   ],
   "source": [
    "#just to plot guessing line\n",
    "a = np.arange(0,1,0.01)\n",
    "\n",
    "bboxprops = {'facecolor':'white', 'pad':0.3, 'boxstyle':'round', 'edgecolor':'darkgrey', 'alpha':0.7}\n",
    "\n",
    "fig1 = plt.figure(num=None, figsize=(3, 3), dpi=150, facecolor='w', edgecolor='k')\n",
    "ax1 = fig1.add_subplot(111)\n",
    "\n",
    "plt.plot(dfROC['fpr'],dfROC['tpr'],'-')\n",
    "plt.plot(a,a,'--')\n",
    "\n",
    "plt.xlabel('False Positive Rate')\n",
    "plt.ylabel('True Positive Rate')\n",
    "\n",
    "ax1.fill_between(dfROC['fpr'], 0, dfROC['tpr'],alpha=0.1)\n",
    "ax1.text(0.51, 0.07, 'AUC = '+ str(round(area_under_curve, 3)), bbox = bboxprops)\n",
    "plt.axis([0,1,0,1])\n",
    "plt.xticks([0,0.5,1])\n",
    "plt.yticks([0,0.5,1])\n",
    "\n",
    "plt.tight_layout()"
   ]
  },
  {
   "cell_type": "code",
   "execution_count": 23,
   "metadata": {},
   "outputs": [
    {
     "data": {
      "text/plain": [
       "SelectFromModel(estimator=RandomForestClassifier(bootstrap=True, class_weight=None, criterion='gini',\n",
       "            max_depth=None, max_features='auto', max_leaf_nodes=None,\n",
       "            min_impurity_decrease=0.0, min_impurity_split=None,\n",
       "            min_samples_leaf=1, min_samples_split=2,\n",
       "            min_weight_fraction_leaf=0.0, n_estimators=128, n_jobs=1,\n",
       "            oob_score=False, random_state=None, verbose=0,\n",
       "            warm_start=False),\n",
       "        norm_order=1, prefit=False, threshold=0.05)"
      ]
     },
     "execution_count": 23,
     "metadata": {},
     "output_type": "execute_result"
    }
   ],
   "source": [
    "# Create a selector object that will use the random forest classifier to identify\n",
    "# features that have an importance of more than 0.15\n",
    "sfm = SelectFromModel(clf, threshold=0.05)\n",
    "\n",
    "# Train the selector\n",
    "sfm.fit(X, y)"
   ]
  },
  {
   "cell_type": "code",
   "execution_count": 24,
   "metadata": {},
   "outputs": [
    {
     "name": "stdout",
     "output_type": "stream",
     "text": [
      "Q155feature\n",
      "Q161feature\n",
      "Q163feature\n",
      "Q164feature\n",
      "Q166feature\n",
      "Q186feature\n",
      "Q187feature\n"
     ]
    }
   ],
   "source": [
    "# Print the names of the most important features\n",
    "for feature_list_index in sfm.get_support(indices=True):\n",
    "    print(fs[feature_list_index])"
   ]
  },
  {
   "cell_type": "code",
   "execution_count": 25,
   "metadata": {},
   "outputs": [],
   "source": [
    "# Transform the data to create a new dataset containing only the most important features\n",
    "# Note: We have to apply the transform to both the training X and test X data.\n",
    "X_important_train = sfm.transform(X)\n",
    "X_important_test = sfm.transform(X_test)"
   ]
  },
  {
   "cell_type": "code",
   "execution_count": 26,
   "metadata": {},
   "outputs": [
    {
     "data": {
      "text/plain": [
       "RandomForestClassifier(bootstrap=True, class_weight=None, criterion='gini',\n",
       "            max_depth=None, max_features='auto', max_leaf_nodes=None,\n",
       "            min_impurity_decrease=0.0, min_impurity_split=None,\n",
       "            min_samples_leaf=1, min_samples_split=2,\n",
       "            min_weight_fraction_leaf=0.0, n_estimators=128, n_jobs=-1,\n",
       "            oob_score=False, random_state=0, verbose=0, warm_start=False)"
      ]
     },
     "execution_count": 26,
     "metadata": {},
     "output_type": "execute_result"
    }
   ],
   "source": [
    "# Create a new random forest classifier for the most important features\n",
    "clf_important = RandomForestClassifier(n_estimators=128, random_state=0, n_jobs=-1)\n",
    "\n",
    "# Train the new classifier on the new dataset containing the most important features\n",
    "clf_important.fit(X_important_train, y)"
   ]
  },
  {
   "cell_type": "code",
   "execution_count": 27,
   "metadata": {
    "collapsed": true
   },
   "outputs": [],
   "source": [
    "# Apply The Full Featured Classifier To The Test Data\n",
    "y_important_pred = clf_important.predict(X_important_test)"
   ]
  },
  {
   "cell_type": "code",
   "execution_count": 28,
   "metadata": {},
   "outputs": [
    {
     "name": "stdout",
     "output_type": "stream",
     "text": [
      "Confusion Matrix:\n",
      " [[ 72  53]\n",
      " [ 31 157]]\n",
      "Percentage of accurate predictions:\n",
      " 0.731629392971\n",
      "Area under curve:\n",
      " 0.788914893617\n"
     ]
    }
   ],
   "source": [
    "## Confusion Matrix\n",
    "confusion = confusion_matrix(y_test,y_important_pred)\n",
    "print('Confusion Matrix:\\n',confusion)\n",
    "\n",
    "## Check accuracy of model on test data\n",
    "acc_score = accuracy_score(y_test, y_important_pred);\n",
    "print('Percentage of accurate predictions:\\n', acc_score)\n",
    "\n",
    "## Compute predicted class probabilities\n",
    "preds = clf_important.predict_proba(X_important_test)\n",
    "\n",
    "## Determine false positive and true positive rate\n",
    "fpr, tpr, thresholds = roc_curve(y_test, preds[:,1])\n",
    "\n",
    "## Store rates for plotting\n",
    "dfROC = pd.DataFrame(dict(fpr = fpr, tpr = tpr))\n",
    "\n",
    "## Compute area under curve of ROC\n",
    "area_under_curve = auc(fpr,tpr)\n",
    "print('Area under curve:\\n', area_under_curve)"
   ]
  },
  {
   "cell_type": "code",
   "execution_count": 29,
   "metadata": {},
   "outputs": [
    {
     "data": {
      "image/png": "[encoded data removed]",
      "text/plain": [
       "<matplotlib.figure.Figure at 0x10ee0ab70>"
      ]
     },
     "metadata": {},
     "output_type": "display_data"
    }
   ],
   "source": [
    "#just to plot guessing line\n",
    "a = np.arange(0,1,0.01)\n",
    "\n",
    "bboxprops = {'facecolor':'white', 'pad':0.3, 'boxstyle':'round', 'edgecolor':'darkgrey', 'alpha':0.7}\n",
    "\n",
    "fig1 = plt.figure(num=None, figsize=(3, 3), dpi=150, facecolor='w', edgecolor='k')\n",
    "ax1 = fig1.add_subplot(111)\n",
    "\n",
    "plt.plot(dfROC['fpr'],dfROC['tpr'],'-')\n",
    "plt.plot(a,a,'--')\n",
    "\n",
    "plt.xlabel('False Positive Rate')\n",
    "plt.ylabel('True Positive Rate')\n",
    "\n",
    "ax1.fill_between(dfROC['fpr'], 0, dfROC['tpr'], alpha=0.1)\n",
    "ax1.text(0.51, 0.07, 'AUC = '+ str(round(area_under_curve, 3)), bbox = bboxprops)\n",
    "plt.axis([0,1,0,1])\n",
    "plt.xticks([0,0.5,1])\n",
    "plt.yticks([0,0.5,1])\n",
    "\n",
    "plt.tight_layout()"
   ]
  },
  {
   "cell_type": "code",
   "execution_count": null,
   "metadata": {
    "collapsed": true
   },
   "outputs": [],
   "source": []
  }
 ],
 "metadata": {
  "kernelspec": {
   "display_name": "Python 3",
   "language": "python",
   "name": "python3"
  },
  "language_info": {
   "codemirror_mode": {
    "name": "ipython",
    "version": 3
   },
   "file_extension": ".py",
   "mimetype": "text/x-python",
   "name": "python",
   "nbconvert_exporter": "python",
   "pygments_lexer": "ipython3",
   "version": "3.6.3"
  }
 },
 "nbformat": 4,
 "nbformat_minor": 2
}
